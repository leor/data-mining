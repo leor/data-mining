{
 "cells": [
  {
   "cell_type": "code",
   "execution_count": 291,
   "metadata": {},
   "outputs": [],
   "source": [
    "import requests\n",
    "import re\n",
    "import hashlib\n",
    "from pathlib import Path\n",
    "from collections import Counter"
   ]
  },
  {
   "cell_type": "code",
   "execution_count": 300,
   "metadata": {},
   "outputs": [],
   "source": [
    "'''\n",
    "Собирает ссылку на Вики\n",
    "'''\n",
    "def get_link(topic):\n",
    "    return 'https://ru.wikipedia.org/wiki/'+topic.capitalize()"
   ]
  },
  {
   "cell_type": "code",
   "execution_count": 308,
   "metadata": {},
   "outputs": [],
   "source": [
    "'''\n",
    "Вытаскивает данные с указанного URL и складывет в кэш\n",
    "'''\n",
    "def get_content(link, force=False):\n",
    "    h = hashlib.md5(link.encode()).hexdigest()\n",
    "    p = Path(f'cache/{h}.html')\n",
    "    \n",
    "    if not p.exists():       \n",
    "        # print('Getting data...')\n",
    "        data = requests.get(link).text\n",
    "        \n",
    "        with open(p, 'w') as f:\n",
    "            f.write(data)\n",
    "    else:\n",
    "        # print('Reading cache...')\n",
    "        with open(p, 'r') as f:\n",
    "            data = f.read()\n",
    "    \n",
    "    return data"
   ]
  },
  {
   "cell_type": "code",
   "execution_count": 302,
   "metadata": {},
   "outputs": [],
   "source": [
    "'''\n",
    "Парсит URL и собирает все слова длиннее 3 симовлов на русском языке\n",
    "'''\n",
    "def get_words(link):\n",
    "    data = get_content(link)\n",
    "    \n",
    "    return re.findall(\"[а-яА-Я]{3,}\", data)"
   ]
  },
  {
   "cell_type": "code",
   "execution_count": 303,
   "metadata": {},
   "outputs": [],
   "source": [
    "'''\n",
    "Считает слова и возращает список наиболее часто встречающихся\n",
    "'''\n",
    "def common_words(link, n=10):\n",
    "    # можно перебрать слова\n",
    "    # words = get_words(topic)\n",
    "    \n",
    "    # result = {}\n",
    "    # for word in words:\n",
    "    #    if word not in result:\n",
    "    #        result[word] = 0\n",
    "    #    result[word] += 1\n",
    "    \n",
    "    # result_list = list(result.items())\n",
    "    # result_list.sort(key = lambda x: -x[1])\n",
    "    \n",
    "    # return result_list\n",
    "    \n",
    "    # но можно сделать collections.Counter\n",
    "    # правда, что-то подсказывает, что эта штука съедает больше памяти\n",
    "    return Counter(get_words(link)).most_common(n)"
   ]
  },
  {
   "cell_type": "code",
   "execution_count": 309,
   "metadata": {},
   "outputs": [
    {
     "data": {
      "text/plain": [
       "[('России', 692),\n",
       " ('года', 242),\n",
       " ('Российской', 229),\n",
       " ('Федерации', 216),\n",
       " ('Россия', 211),\n",
       " ('отношения', 205),\n",
       " ('Российско', 162),\n",
       " ('году', 147),\n",
       " ('СССР', 128),\n",
       " ('Российская', 100)]"
      ]
     },
     "execution_count": 309,
     "metadata": {},
     "output_type": "execute_result"
    }
   ],
   "source": [
    "common_words(get_link('Россия'))"
   ]
  },
  {
   "cell_type": "code",
   "execution_count": 305,
   "metadata": {},
   "outputs": [],
   "source": [
    "'''\n",
    "Ищет раздел Ссылки на Вики и возвращает список ссылок\n",
    "- Далеко от идеала :)\n",
    "'''\n",
    "def get_links(topic):\n",
    "    data = get_content(get_link(topic))\n",
    "    \n",
    "    return re.findall(\n",
    "        'href=\"([^\"]+)\">(.*)</a>', \n",
    "        re.findall(\"<h2>.+Ссылки.+</h2>([\\n<> \\w\\-=\\\"';:\\.а-яА-Я_{}#%@\\(\\)\\/,&\\?]*)\\n<ul>([\\n <>\\w=\\\":/\\.\\-а-яА-Я’\\?#@\\(\\)]*)</ul>\", data, re.M)[0][1]\n",
    "    )\n"
   ]
  },
  {
   "cell_type": "code",
   "execution_count": 307,
   "metadata": {},
   "outputs": [
    {
     "name": "stdout",
     "output_type": "stream",
     "text": [
      "Найдено 5 ссылок\n"
     ]
    },
    {
     "data": {
      "text/plain": [
       "[('http://transspot.ru/2013/05/31/pro-derevya-na-ulicax/',\n",
       "  'Роль деревьев в городской среде'),\n",
       " ('http://ec-dejavu.ru/d/Derevo.html',\n",
       "  'Представления о дереве в истории культуры и философии'),\n",
       " ('http://www.maleus.ru/index.php/news/129-tree',\n",
       "  'Найдены самые древние деревья на Земле'),\n",
       " ('http://www.na.fs.fed.us/spfo/pubs/silvics_manual/table_of_contents.htm',\n",
       "  'Silvics of North America'),\n",
       " ('http://hort.ifas.ufl.edu/woody/',\n",
       "  'University of Florida’s Landscape Plants website')]"
      ]
     },
     "execution_count": 307,
     "metadata": {},
     "output_type": "execute_result"
    }
   ],
   "source": [
    "links = get_links('Дерево')\n",
    "print(f'Найдено {len(links)} ссылок(-ки)')\n",
    "links"
   ]
  },
  {
   "cell_type": "code",
   "execution_count": 318,
   "metadata": {},
   "outputs": [],
   "source": [
    "'''\n",
    "Обрабатывает указанный список ссылок и считает возращает словарь ссылка: слова\n",
    "Также записывает данные в файлы\n",
    "'''\n",
    "def process_links(link_list):\n",
    "    res = {}\n",
    "    for link in links:\n",
    "        url, text = link\n",
    "        print(f'Processing {url}...')\n",
    "        words = common_words(url)\n",
    "        res[url] = words\n",
    "        f_name = text.replace(' ', '_')+'.txt'\n",
    "        \n",
    "        with open('data/'+f_name, 'w') as f:\n",
    "            print(f'Writing data to `data/{f_name}`')\n",
    "            for word in words:\n",
    "                w, c = word\n",
    "                f.write(f'{w} - {c}\\n')\n",
    "                \n",
    "    return res"
   ]
  },
  {
   "cell_type": "code",
   "execution_count": 319,
   "metadata": {},
   "outputs": [
    {
     "name": "stdout",
     "output_type": "stream",
     "text": [
      "Processing http://transspot.ru/2013/05/31/pro-derevya-na-ulicax/...\n",
      "Writing data to `data/Роль_деревьев_в_городской_среде.txt`\n",
      "Processing http://ec-dejavu.ru/d/Derevo.html...\n",
      "Writing data to `data/Представления_о_дереве_в_истории_культуры_и_философии.txt`\n",
      "Processing http://www.maleus.ru/index.php/news/129-tree...\n",
      "Writing data to `data/Найдены_самые_древние_деревья_на_Земле.txt`\n",
      "Processing http://www.na.fs.fed.us/spfo/pubs/silvics_manual/table_of_contents.htm...\n",
      "Writing data to `data/Silvics_of_North_America.txt`\n",
      "Processing http://hort.ifas.ufl.edu/woody/...\n",
      "Writing data to `data/University_of_Florida’s_Landscape_Plants_website.txt`\n"
     ]
    },
    {
     "data": {
      "text/plain": [
       "{'http://transspot.ru/2013/05/31/pro-derevya-na-ulicax/': [('движения', 26),\n",
       "  ('деревьев', 25),\n",
       "  ('для', 23),\n",
       "  ('деревья', 19),\n",
       "  ('городе', 17),\n",
       "  ('Деревья', 16),\n",
       "  ('дорожного', 13),\n",
       "  ('улицах', 11),\n",
       "  ('ТрансСпот', 11),\n",
       "  ('Про', 9)],\n",
       " 'http://ec-dejavu.ru/d/Derevo.html': [],\n",
       " 'http://www.maleus.ru/index.php/news/129-tree': [],\n",
       " 'http://www.na.fs.fed.us/spfo/pubs/silvics_manual/table_of_contents.htm': [],\n",
       " 'http://hort.ifas.ufl.edu/woody/': []}"
      ]
     },
     "execution_count": 319,
     "metadata": {},
     "output_type": "execute_result"
    }
   ],
   "source": [
    "process_links(links)"
   ]
  },
  {
   "cell_type": "code",
   "execution_count": null,
   "metadata": {},
   "outputs": [],
   "source": []
  }
 ],
 "metadata": {
  "kernelspec": {
   "display_name": "Python 3",
   "language": "python",
   "name": "python3"
  },
  "language_info": {
   "codemirror_mode": {
    "name": "ipython",
    "version": 3
   },
   "file_extension": ".py",
   "mimetype": "text/x-python",
   "name": "python",
   "nbconvert_exporter": "python",
   "pygments_lexer": "ipython3",
   "version": "3.7.1"
  }
 },
 "nbformat": 4,
 "nbformat_minor": 2
}
