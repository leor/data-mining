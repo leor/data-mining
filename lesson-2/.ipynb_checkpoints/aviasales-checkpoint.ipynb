{
 "cells": [
  {
   "cell_type": "code",
   "execution_count": 1,
   "metadata": {},
   "outputs": [],
   "source": [
    "import requests\n",
    "import socket\n",
    "import pandas as pd"
   ]
  },
  {
   "cell_type": "code",
   "execution_count": 2,
   "metadata": {},
   "outputs": [],
   "source": [
    "# обёртка над запросами в aviasales\n",
    "def request_aviasales(action, params):\n",
    "    response = requests.get(\n",
    "        f'http://min-prices.aviasales.ru/{action}', \n",
    "        params=params\n",
    "    )\n",
    "    \n",
    "    return response.json()"
   ]
  },
  {
   "cell_type": "code",
   "execution_count": 3,
   "metadata": {},
   "outputs": [],
   "source": [
    "# обёртка над запросами в IATA-сервис\n",
    "# можно сделать несколько обърток для каждого метода, но, т.к. мы будем запускать их по 1 разу, то в этом нет смысла\n",
    "def request_iata(action, params):\n",
    "    response = requests.get(\n",
    "        f'http://www.travelpayouts.com/{action}', \n",
    "        params=params\n",
    "    )\n",
    "    \n",
    "    return response.json()"
   ]
  },
  {
   "cell_type": "code",
   "execution_count": 4,
   "metadata": {},
   "outputs": [
    {
     "name": "stdout",
     "output_type": "stream",
     "text": [
      "Введите пункт оптравления (текущий Москва): Самара\n",
      "Введите пункт назначения: Москва\n",
      "В один конец (да/нет)? да\n"
     ]
    }
   ],
   "source": [
    "ip = socket.gethostbyname(socket.gethostname()) # получаем наш IP\n",
    "\n",
    "# пытаемся по IP узнать наш город\n",
    "if ip != '127.0.0.1':\n",
    "    current_city = request_iata('whereami', {\n",
    "        'locale': 'ru', \n",
    "        'ip': ip\n",
    "    })\n",
    "\n",
    "# формируем предложение пользователю\n",
    "to_request = 'Введите пункт оптравления:'\n",
    "if current_city:\n",
    "    to_request = f'Введите пункт оптравления (текущий {current_city[\"name\"]}): '\n",
    "    \n",
    "origin = input(to_request) # запрашиваем пункт отправления\n",
    "destination = input('Введите пункт назначения: ') # запрашиваем пункт назначения\n",
    "one_way = input('В один конец (да/нет)? ') # запрашиваем необходимость поиска обратного билета\n",
    "\n",
    "# если не указан пункт отправления, но есть данные по IP - используем их\n",
    "if not origin and current_city:\n",
    "    origin = current_city['name']\n",
    "\n",
    "# получаем IATA коды для пунктов отправления и назначения\n",
    "transport_data = request_iata(\n",
    "    'widgets_suggest_params', \n",
    "    {\n",
    "        'q': f'Из {origin} в {destination}'\n",
    "    }\n",
    ")\n",
    "\n",
    "# делаем запрос за билетами\n",
    "data = request_aviasales(\n",
    "    'calendar_preload', {\n",
    "        'origin': transport_data['origin']['iata'],\n",
    "        'destination': transport_data['destination']['iata'],\n",
    "        'one_way': one_way == 'да'\n",
    "    })"
   ]
  },
  {
   "cell_type": "code",
   "execution_count": 10,
   "metadata": {},
   "outputs": [
    {
     "ename": "AttributeError",
     "evalue": "'DataFrame' object has no attribute 'sort'",
     "output_type": "error",
     "traceback": [
      "\u001b[0;31m---------------------------------------------------------------------------\u001b[0m",
      "\u001b[0;31mAttributeError\u001b[0m                            Traceback (most recent call last)",
      "\u001b[0;32m<ipython-input-10-6cb2ddf53ff9>\u001b[0m in \u001b[0;36m<module>\u001b[0;34m\u001b[0m\n\u001b[1;32m     12\u001b[0m }, inplace=True)\n\u001b[1;32m     13\u001b[0m \u001b[0;34m\u001b[0m\u001b[0m\n\u001b[0;32m---> 14\u001b[0;31m \u001b[0mdf\u001b[0m\u001b[0;34m[\u001b[0m\u001b[0;34m[\u001b[0m\u001b[0;34m'Пункт отправления'\u001b[0m\u001b[0;34m,\u001b[0m \u001b[0;34m'Пункт назначения'\u001b[0m\u001b[0;34m,\u001b[0m \u001b[0;34m'Дата вылета'\u001b[0m\u001b[0;34m,\u001b[0m \u001b[0;34m'Дата возвращения'\u001b[0m\u001b[0;34m,\u001b[0m \u001b[0;34m'Кол-во пересадок'\u001b[0m\u001b[0;34m,\u001b[0m \u001b[0;34m'Цена'\u001b[0m\u001b[0;34m,\u001b[0m \u001b[0;34m'Источник'\u001b[0m\u001b[0;34m]\u001b[0m\u001b[0;34m]\u001b[0m\u001b[0;34m.\u001b[0m\u001b[0msort\u001b[0m\u001b[0;34m(\u001b[0m\u001b[0;34m'Дата вылета'\u001b[0m\u001b[0;34m)\u001b[0m\u001b[0;34m\u001b[0m\u001b[0;34m\u001b[0m\u001b[0m\n\u001b[0m",
      "\u001b[0;32m/anaconda3/lib/python3.7/site-packages/pandas/core/generic.py\u001b[0m in \u001b[0;36m__getattr__\u001b[0;34m(self, name)\u001b[0m\n\u001b[1;32m   4374\u001b[0m             \u001b[0;32mif\u001b[0m \u001b[0mself\u001b[0m\u001b[0;34m.\u001b[0m\u001b[0m_info_axis\u001b[0m\u001b[0;34m.\u001b[0m\u001b[0m_can_hold_identifiers_and_holds_name\u001b[0m\u001b[0;34m(\u001b[0m\u001b[0mname\u001b[0m\u001b[0;34m)\u001b[0m\u001b[0;34m:\u001b[0m\u001b[0;34m\u001b[0m\u001b[0;34m\u001b[0m\u001b[0m\n\u001b[1;32m   4375\u001b[0m                 \u001b[0;32mreturn\u001b[0m \u001b[0mself\u001b[0m\u001b[0;34m[\u001b[0m\u001b[0mname\u001b[0m\u001b[0;34m]\u001b[0m\u001b[0;34m\u001b[0m\u001b[0;34m\u001b[0m\u001b[0m\n\u001b[0;32m-> 4376\u001b[0;31m             \u001b[0;32mreturn\u001b[0m \u001b[0mobject\u001b[0m\u001b[0;34m.\u001b[0m\u001b[0m__getattribute__\u001b[0m\u001b[0;34m(\u001b[0m\u001b[0mself\u001b[0m\u001b[0;34m,\u001b[0m \u001b[0mname\u001b[0m\u001b[0;34m)\u001b[0m\u001b[0;34m\u001b[0m\u001b[0;34m\u001b[0m\u001b[0m\n\u001b[0m\u001b[1;32m   4377\u001b[0m \u001b[0;34m\u001b[0m\u001b[0m\n\u001b[1;32m   4378\u001b[0m     \u001b[0;32mdef\u001b[0m \u001b[0m__setattr__\u001b[0m\u001b[0;34m(\u001b[0m\u001b[0mself\u001b[0m\u001b[0;34m,\u001b[0m \u001b[0mname\u001b[0m\u001b[0;34m,\u001b[0m \u001b[0mvalue\u001b[0m\u001b[0;34m)\u001b[0m\u001b[0;34m:\u001b[0m\u001b[0;34m\u001b[0m\u001b[0;34m\u001b[0m\u001b[0m\n",
      "\u001b[0;31mAttributeError\u001b[0m: 'DataFrame' object has no attribute 'sort'"
     ]
    }
   ],
   "source": [
    "# выводим данные\n",
    "# тут я схитрил и положился на DataFrame и Jupiter :)\n",
    "df = pd.DataFrame(data['best_prices'])\n",
    "df.rename(columns={\n",
    "    'origin': 'Пункт отправления',\n",
    "    'gate': 'Источник',\n",
    "    'destination': 'Пункт назначения', \n",
    "    'depart_date': 'Дата вылета', \n",
    "    'return_date': 'Дата возвращения', \n",
    "    'value': 'Цена',\n",
    "    'number_of_changes': 'Кол-во пересадок'\n",
    "}, inplace=True)\n",
    "\n",
    "df[['Пункт отправления', 'Пункт назначения', 'Дата вылета', 'Дата возвращения', 'Кол-во пересадок', 'Цена', 'Источник']].sort('Дата вылета')"
   ]
  },
  {
   "cell_type": "code",
   "execution_count": null,
   "metadata": {},
   "outputs": [],
   "source": []
  }
 ],
 "metadata": {
  "kernelspec": {
   "display_name": "Python 3",
   "language": "python",
   "name": "python3"
  },
  "language_info": {
   "codemirror_mode": {
    "name": "ipython",
    "version": 3
   },
   "file_extension": ".py",
   "mimetype": "text/x-python",
   "name": "python",
   "nbconvert_exporter": "python",
   "pygments_lexer": "ipython3",
   "version": "3.7.1"
  }
 },
 "nbformat": 4,
 "nbformat_minor": 2
}
